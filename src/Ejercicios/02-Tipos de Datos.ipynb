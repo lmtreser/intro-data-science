{
 "cells": [
  {
   "cell_type": "markdown",
   "id": "figured-klein",
   "metadata": {},
   "source": [
    "#### Ejercicios extra - Listas y Diccionarios"
   ]
  },
  {
   "cell_type": "markdown",
   "id": "ultimate-hypothesis",
   "metadata": {},
   "source": [
    "1. Armar una lista con 6 ciudades"
   ]
  },
  {
   "cell_type": "markdown",
   "id": "abandoned-discipline",
   "metadata": {},
   "source": [
    "2. Seleccionar la tercera ciudad"
   ]
  },
  {
   "cell_type": "markdown",
   "id": "artistic-bryan",
   "metadata": {},
   "source": [
    "3. Eliminar la última ciudad"
   ]
  },
  {
   "cell_type": "markdown",
   "id": "forbidden-semester",
   "metadata": {},
   "source": [
    "4. Reemplazar la primer ciudad con otra"
   ]
  },
  {
   "cell_type": "markdown",
   "id": "stuffed-lingerie",
   "metadata": {},
   "source": [
    "5. Agregar una ciudad al final"
   ]
  },
  {
   "cell_type": "markdown",
   "id": "multiple-johnston",
   "metadata": {},
   "source": [
    "6. Armar un diccionario que tenga 3 duplas de Provincia y Ciudad (ej: \"Provincia de Buenos Aires: La Plata\")"
   ]
  },
  {
   "cell_type": "markdown",
   "id": "average-aluminum",
   "metadata": {},
   "source": [
    "7. Eliminar el último registro (dupla Ciudad-Provincia)"
   ]
  },
  {
   "cell_type": "markdown",
   "id": "current-track",
   "metadata": {},
   "source": [
    "8. Ver todas las Provincias"
   ]
  },
  {
   "cell_type": "code",
   "execution_count": 1,
   "id": "compound-needle",
   "metadata": {},
   "outputs": [
    {
     "name": "stdout",
     "output_type": "stream",
     "text": [
      "['Mar del Plata', 'Balcarce', 'Santa Clara del Mar', 'Bragado', 'Tandil', 'Olavarria']\n"
     ]
    }
   ],
   "source": [
    "# Ejercicio 1\n",
    "ciudades = [\"Mar del Plata\", \"Balcarce\", \"Santa Clara del Mar\", \n",
    "            \"Bragado\", \"Tandil\", \"Olavarria\"]\n",
    "print(ciudades)"
   ]
  },
  {
   "cell_type": "code",
   "execution_count": 2,
   "id": "7e8cc1b2",
   "metadata": {},
   "outputs": [
    {
     "name": "stdout",
     "output_type": "stream",
     "text": [
      "Santa Clara del Mar\n"
     ]
    }
   ],
   "source": [
    "# Ejercicio 2\n",
    "tercera = ciudades[2]\n",
    "print(tercera)"
   ]
  },
  {
   "cell_type": "code",
   "execution_count": 3,
   "id": "32c360f6",
   "metadata": {},
   "outputs": [
    {
     "name": "stdout",
     "output_type": "stream",
     "text": [
      "['Mar del Plata', 'Balcarce', 'Santa Clara del Mar', 'Bragado', 'Tandil']\n"
     ]
    }
   ],
   "source": [
    "# Ejercicio 3\n",
    "ciudades.pop()\n",
    "print(ciudades)"
   ]
  },
  {
   "cell_type": "code",
   "execution_count": 4,
   "id": "0354ca73",
   "metadata": {},
   "outputs": [
    {
     "name": "stdout",
     "output_type": "stream",
     "text": [
      "['Batán', 'Balcarce', 'Santa Clara del Mar', 'Bragado', 'Tandil']\n"
     ]
    }
   ],
   "source": [
    "# Ejercicio 4\n",
    "ciudades[0] = \"Batán\"\n",
    "print(ciudades)"
   ]
  },
  {
   "cell_type": "code",
   "execution_count": 5,
   "id": "0e4b1298",
   "metadata": {},
   "outputs": [
    {
     "name": "stdout",
     "output_type": "stream",
     "text": [
      "['Batán', 'Balcarce', 'Santa Clara del Mar', 'Bragado', 'Tandil', 'Mar del Plata']\n"
     ]
    }
   ],
   "source": [
    "# Ejercicio 5\n",
    "ciudades.append(\"Mar del Plata\")\n",
    "print(ciudades)"
   ]
  },
  {
   "cell_type": "code",
   "execution_count": 6,
   "id": "5b5cfbfe",
   "metadata": {},
   "outputs": [
    {
     "name": "stdout",
     "output_type": "stream",
     "text": [
      "{'Buenos Aires': 'La Plata', 'Misiones': 'Posadas', 'La Pampa': 'Santa Rosa'}\n"
     ]
    }
   ],
   "source": [
    "# Ejercicio 6\n",
    "provincias = {\n",
    "    \"Buenos Aires\" : \"La Plata\",\n",
    "    \"Misiones\" : \"Posadas\",\n",
    "    \"La Pampa\" : \"Santa Rosa\"\n",
    "}\n",
    "print(provincias)"
   ]
  },
  {
   "cell_type": "code",
   "execution_count": 7,
   "id": "a98d2835",
   "metadata": {},
   "outputs": [
    {
     "name": "stdout",
     "output_type": "stream",
     "text": [
      "{'Buenos Aires': 'La Plata', 'Misiones': 'Posadas'}\n"
     ]
    }
   ],
   "source": [
    "# Ejercicio 7\n",
    "provincias.popitem()\n",
    "print(provincias)"
   ]
  },
  {
   "cell_type": "code",
   "execution_count": 8,
   "id": "79c468f1",
   "metadata": {},
   "outputs": [
    {
     "name": "stdout",
     "output_type": "stream",
     "text": [
      "dict_keys(['Buenos Aires', 'Misiones'])\n"
     ]
    }
   ],
   "source": [
    "# Ejercicio 8\n",
    "listado = provincias.keys()\n",
    "print(listado)"
   ]
  }
 ],
 "metadata": {
  "kernelspec": {
   "display_name": "Python 3",
   "language": "python",
   "name": "python3"
  },
  "language_info": {
   "codemirror_mode": {
    "name": "ipython",
    "version": 3
   },
   "file_extension": ".py",
   "mimetype": "text/x-python",
   "name": "python",
   "nbconvert_exporter": "python",
   "pygments_lexer": "ipython3",
   "version": "3.9.2"
  }
 },
 "nbformat": 4,
 "nbformat_minor": 5
}
