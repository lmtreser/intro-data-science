{
 "cells": [
  {
   "cell_type": "markdown",
   "id": "instrumental-savings",
   "metadata": {},
   "source": [
    "#### Ejercicios extra estructuras de control - identaciones y funciones"
   ]
  },
  {
   "cell_type": "markdown",
   "id": "demanding-container",
   "metadata": {
    "id": "1ad6UxuSMh-q"
   },
   "source": [
    "1. Definir una lista con 3 números. Crear una estructura iterativa donde se imprima cada número +2"
   ]
  },
  {
   "cell_type": "code",
   "execution_count": 2,
   "id": "increasing-degree",
   "metadata": {},
   "outputs": [
    {
     "name": "stdout",
     "output_type": "stream",
     "text": [
      "12\n",
      "22\n",
      "32\n"
     ]
    }
   ],
   "source": [
    "lista = [10, 20, 30]\n",
    "\n",
    "for i in lista:\n",
    "    print(i + 2)"
   ]
  },
  {
   "cell_type": "markdown",
   "id": "empty-boxing",
   "metadata": {},
   "source": [
    "2. Definir una lista con nombres de estudiantes. Crear una estructura iterativa que cuente la cantidad de estudiantes (sumar 1 por cada estudiante) "
   ]
  },
  {
   "cell_type": "code",
   "execution_count": 4,
   "id": "immune-waterproof",
   "metadata": {},
   "outputs": [
    {
     "name": "stdout",
     "output_type": "stream",
     "text": [
      "4\n"
     ]
    }
   ],
   "source": [
    "estudiantes = [\"Lucas\", \"Pedro\", \"Mora\", \"Martita\"]\n",
    "cantidad = 0\n",
    "\n",
    "for i in estudiantes:\n",
    "    cantidad += 1\n",
    "\n",
    "print(cantidad)"
   ]
  },
  {
   "cell_type": "markdown",
   "id": "funny-portland",
   "metadata": {
    "id": "1ad6UxuSMh-q"
   },
   "source": [
    "3. Crear una función que dado 2 números (parámetros), imprima el resultado de dividir el primer número por el segundo"
   ]
  },
  {
   "cell_type": "code",
   "execution_count": 5,
   "id": "accurate-least",
   "metadata": {},
   "outputs": [
    {
     "name": "stdout",
     "output_type": "stream",
     "text": [
      "5.0\n"
     ]
    }
   ],
   "source": [
    "def dividir(num1, num2):\n",
    "    resultado = num1 / num2\n",
    "    return resultado\n",
    "\n",
    "division = dividir(10, 2)\n",
    "print(division)"
   ]
  },
  {
   "cell_type": "markdown",
   "id": "sized-concert",
   "metadata": {
    "id": "1ad6UxuSMh-q"
   },
   "source": [
    "5. Crea una función que reciba 2 números e incluya un condicional donde si el segundo número es 0 imprima \"no se puede realizar esta operación\" y sino realice una división entre el primer y el segundo número"
   ]
  },
  {
   "cell_type": "code",
   "execution_count": 7,
   "id": "proud-playing",
   "metadata": {},
   "outputs": [
    {
     "name": "stdout",
     "output_type": "stream",
     "text": [
      "No se puede realizar esta operación\n",
      "None\n"
     ]
    }
   ],
   "source": [
    "def dividir(num1, num2):\n",
    "\n",
    "    if (num2 == 0):\n",
    "        print(\"No se puede realizar esta operación\")\n",
    "    else:\n",
    "        resultado = num1 / num2\n",
    "        return resultado\n",
    "\n",
    "# division = dividir(10, 2)\n",
    "division = dividir(10, 0)\n",
    "print(division)"
   ]
  }
 ],
 "metadata": {
  "kernelspec": {
   "display_name": "Python 3",
   "language": "python",
   "name": "python3"
  },
  "language_info": {
   "codemirror_mode": {
    "name": "ipython",
    "version": 3
   },
   "file_extension": ".py",
   "mimetype": "text/x-python",
   "name": "python",
   "nbconvert_exporter": "python",
   "pygments_lexer": "ipython3",
   "version": "3.10.12"
  }
 },
 "nbformat": 4,
 "nbformat_minor": 5
}
