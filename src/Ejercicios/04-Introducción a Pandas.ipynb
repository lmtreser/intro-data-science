{
 "cells": [
  {
   "cell_type": "markdown",
   "id": "bulgarian-marker",
   "metadata": {},
   "source": [
    "### Ejercicios Extra Introducción a Pandas\n",
    "\n",
    "Para seguir practicando podés hacer estos ejercicios. Vamos a seguir utilizando el recorte de un dataset sobre el establecimientos educativos en la Provincia de Buenos Aires extraído del sitio web de [Datos Abiertos de la Provincia de Buenos Aires](https://catalogo.datos.gba.gob.ar/dataset/establecimientos-educativos/archivo/3951210e-7e0e-4fed-bbf1-0183e704c9ae) actualizado a fines del año 2022. \n",
    "En la clase vamos a usar un Dataset modificacado por lo que para ejectutar la Notebook correctamente se debe utilizar el archivo de la clase."
   ]
  },
  {
   "cell_type": "code",
   "execution_count": 2,
   "id": "successful-somalia",
   "metadata": {},
   "outputs": [],
   "source": [
    "import pandas as pd\n",
    "data = pd.read_csv(\"establecimientos_educativos.csv\")"
   ]
  },
  {
   "cell_type": "markdown",
   "id": "caroline-dictionary",
   "metadata": {},
   "source": [
    "1. Ver los últimos 4 registros del dataset"
   ]
  },
  {
   "cell_type": "code",
   "execution_count": 4,
   "id": "civic-tucson",
   "metadata": {},
   "outputs": [
    {
     "name": "stdout",
     "output_type": "stream",
     "text": [
      "Últimos 4 registros:\n",
      "        row_number  idserv       clave  cueanexo  \\\n",
      "21619       21620  103264  0044AS0001  62457100   \n",
      "21620       21621  103265  0018JS0009  62457200   \n",
      "21621       21622  103266  0118JS0003  62457400   \n",
      "21622       21623  103267  0006JS0011  62457500   \n",
      "\n",
      "                                                  nombre            modalidad  \\\n",
      "21619       ESCUELA SECUNDARIA ESPECIALIZADA EN ARTE N°1  Modalidad Artística   \n",
      "21620  JARDÍN DE INFANTES RURAL E ISLAS DE MATRÍCULA ...      Educación Común   \n",
      "21621  JARDIN DE INFANTES RURAL E ISLAS DE MATRÍCULA ...      Educación Común   \n",
      "21622  JARDÍN DE INFANTES RURAL E ISLAS DE MATRÍCULA ...      Educación Común   \n",
      "\n",
      "                  nivel periodo                         calle  nro  ...  \\\n",
      "21619  Nivel Secundario   Nueva         FORTÍN ATAHUALPA PEÑA  886  ...   \n",
      "21620     Nivel Inicial   Nueva  SECCION RURAL PARAJE EL TORO  S/N  ...   \n",
      "21621     Nivel Inicial   Nueva                    ZONA RURAL  S/N  ...   \n",
      "21622     Nivel Inicial   Nueva                     CUARTEL V  S/N  ...   \n",
      "\n",
      "                                  tipo_organizacion matricula varones mujeres  \\\n",
      "21619                           POLIVALENTE DE ARTE         0       0       0   \n",
      "21620  JARDÍN DE INFANTES RURAL DE MATRÍCULA MÍNIMA         0       0       0   \n",
      "21621  JARDÍN DE INFANTES RURAL DE MATRÍCULA MÍNIMA         0       0       0   \n",
      "21622  JARDÍN DE INFANTES RURAL DE MATRÍCULA MÍNIMA         0       0       0   \n",
      "\n",
      "       turnos      area sede_axo_ext esc_sede    latitud   longitud  \n",
      "21619     NaN  INTERIOR         SEDE      NaN -34.596751 -58.966341  \n",
      "21620     NaN  INTERIOR         SEDE      NaN -35.488045 -62.592406  \n",
      "21621     NaN  INTERIOR         SEDE      NaN -36.362899 -61.640911  \n",
      "21622     NaN  INTERIOR         SEDE      NaN -37.339438 -58.425834  \n",
      "\n",
      "[4 rows x 29 columns]\n"
     ]
    }
   ],
   "source": [
    "print(\"Últimos 4 registros:\\n\", data.tail(4))"
   ]
  },
  {
   "cell_type": "markdown",
   "id": "medium-academy",
   "metadata": {},
   "source": [
    "2. Ver los tipos de datos de las columnas del dataset"
   ]
  },
  {
   "cell_type": "code",
   "execution_count": 5,
   "id": "breeding-virus",
   "metadata": {},
   "outputs": [
    {
     "name": "stdout",
     "output_type": "stream",
     "text": [
      "Tipos de datos\n",
      ": row_number             int64\n",
      "idserv                 int64\n",
      "clave                 object\n",
      "cueanexo               int64\n",
      "nombre                object\n",
      "modalidad             object\n",
      "nivel                 object\n",
      "periodo               object\n",
      "calle                 object\n",
      "nro                   object\n",
      "localidad             object\n",
      "distrito              object\n",
      "region_educativa      object\n",
      "depend_func           object\n",
      "desfavorabilidad       int64\n",
      "subvencion            object\n",
      "ubicacion             object\n",
      "sector                object\n",
      "dependencia           object\n",
      "tipo_organizacion     object\n",
      "matricula              int64\n",
      "varones                int64\n",
      "mujeres                int64\n",
      "turnos                object\n",
      "area                  object\n",
      "sede_axo_ext          object\n",
      "esc_sede              object\n",
      "latitud              float64\n",
      "longitud             float64\n",
      "dtype: object\n"
     ]
    }
   ],
   "source": [
    "print(\"Tipos de datos\\n:\", data.dtypes)"
   ]
  },
  {
   "cell_type": "markdown",
   "id": "boolean-cuisine",
   "metadata": {},
   "source": [
    "3. Ver la columna \"area\", ¿Qué valores puede tomar? ¿Cuántos registros hay de cada uno?"
   ]
  },
  {
   "cell_type": "code",
   "execution_count": 11,
   "id": "eleven-veteran",
   "metadata": {},
   "outputs": [
    {
     "name": "stdout",
     "output_type": "stream",
     "text": [
      "Columna area:\n",
      " 0         INTERIOR\n",
      "1         INTERIOR\n",
      "2         INTERIOR\n",
      "3         INTERIOR\n",
      "4         INTERIOR\n",
      "           ...    \n",
      "21618    CONURBANO\n",
      "21619     INTERIOR\n",
      "21620     INTERIOR\n",
      "21621     INTERIOR\n",
      "21622     INTERIOR\n",
      "Name: area, Length: 21623, dtype: object\n",
      "\n",
      "Tipos de datos: object\n",
      "\n",
      "Cantidad de registros:\n",
      " area\n",
      "INTERIOR     11757\n",
      "CONURBANO     9866\n",
      "Name: count, dtype: int64\n"
     ]
    }
   ],
   "source": [
    "columna_area = data[\"area\"]\n",
    "print(\"Columna area:\\n\", columna_area)\n",
    "print(\"\\nTipos de datos:\", columna_area.dtypes)\n",
    "print(\"\\nCantidad de registros:\\n\", columna_area.value_counts())"
   ]
  },
  {
   "cell_type": "markdown",
   "id": "controversial-telephone",
   "metadata": {},
   "source": [
    "4. Modificar el nombre de la columna \"nombre\" por \"nombre_establecimiento\""
   ]
  },
  {
   "cell_type": "code",
   "execution_count": 12,
   "id": "awful-dryer",
   "metadata": {},
   "outputs": [
    {
     "name": "stdout",
     "output_type": "stream",
     "text": [
      "       row_number  idserv       clave  cueanexo  \\\n",
      "0               1       1  0001AD0003  61060000   \n",
      "1               2       1  0001AD0003  61060000   \n",
      "2               3       1  0001AD0003  61060000   \n",
      "3               4       2  0001AE0001  61498400   \n",
      "4               5       3  0001AE0002  61498500   \n",
      "...           ...     ...         ...       ...   \n",
      "21618       21619  103263  2073DF9000  62457001   \n",
      "21619       21620  103264  0044AS0001  62457100   \n",
      "21620       21621  103265  0018JS0009  62457200   \n",
      "21621       21622  103266  0118JS0003  62457400   \n",
      "21622       21623  103267  0006JS0011  62457500   \n",
      "\n",
      "                                  nombre_establecimiento  \\\n",
      "0                         ESCUELA DE DANZAS CLASICAS Nº3   \n",
      "1                         ESCUELA DE DANZAS CLASICAS Nº3   \n",
      "2                         ESCUELA DE DANZAS CLASICAS Nº3   \n",
      "3                     ESCUELA DE EDUCACIÓN ARTÍSTICA Nº1   \n",
      "4                     ESCUELA DE EDUCACIÓN ARTÍSTICA Nº2   \n",
      "...                                                  ...   \n",
      "21618  INSTITUTO TECNOLÓGICO DE LA UNIVESIDAD NACIONA...   \n",
      "21619       ESCUELA SECUNDARIA ESPECIALIZADA EN ARTE N°1   \n",
      "21620  JARDÍN DE INFANTES RURAL E ISLAS DE MATRÍCULA ...   \n",
      "21621  JARDIN DE INFANTES RURAL E ISLAS DE MATRÍCULA ...   \n",
      "21622  JARDÍN DE INFANTES RURAL E ISLAS DE MATRÍCULA ...   \n",
      "\n",
      "                            modalidad                  nivel     periodo  \\\n",
      "0                 Modalidad Artística    Ciclo de Iniciación  Final 2022   \n",
      "1                 Modalidad Artística    Nivel Superior (**)  Final 2022   \n",
      "2                 Modalidad Artística            Ciclo Medio  Final 2022   \n",
      "3                 Modalidad Artística      Cursos y Talleres  Final 2022   \n",
      "4                 Modalidad Artística      Cursos y Talleres  Final 2022   \n",
      "...                               ...                    ...         ...   \n",
      "21618  Modalidad de Jóvenes y Adultos  Formación Profesional       Nueva   \n",
      "21619             Modalidad Artística       Nivel Secundario       Nueva   \n",
      "21620                 Educación Común          Nivel Inicial       Nueva   \n",
      "21621                 Educación Común          Nivel Inicial       Nueva   \n",
      "21622                 Educación Común          Nivel Inicial       Nueva   \n",
      "\n",
      "                                       calle   nro  ...  \\\n",
      "0                                54 E/ 7 Y 8   628  ...   \n",
      "1                                54 E/ 7 Y 8   628  ...   \n",
      "2                                54 E/ 7 Y 8   628  ...   \n",
      "3                               45 E/ 9 Y 10   743  ...   \n",
      "4      76 - RELOCALIZADOS EN EL ISFDYT N° 12   S/N  ...   \n",
      "...                                      ...   ...  ...   \n",
      "21618                AVENIDA BARTOLOMÉ MITRE  1891  ...   \n",
      "21619                  FORTÍN ATAHUALPA PEÑA   886  ...   \n",
      "21620           SECCION RURAL PARAJE EL TORO   S/N  ...   \n",
      "21621                             ZONA RURAL   S/N  ...   \n",
      "21622                              CUARTEL V   S/N  ...   \n",
      "\n",
      "                                  tipo_organizacion matricula varones mujeres  \\\n",
      "0                        ESCUELA DE DANZAS CLÁSICAS       144       5     139   \n",
      "1                        ESCUELA DE DANZAS CLÁSICAS       263       5     258   \n",
      "2                        ESCUELA DE DANZAS CLÁSICAS       231      10     221   \n",
      "3                    ESCUELA DE EDUCACIÓN ARTÍSTICA      1016     471     545   \n",
      "4                    ESCUELA DE EDUCACIÓN ARTÍSTICA       709     280     429   \n",
      "...                                             ...       ...     ...     ...   \n",
      "21618               CENTRO DE FORMACIÓN PROFESIONAL         0       0       0   \n",
      "21619                           POLIVALENTE DE ARTE         0       0       0   \n",
      "21620  JARDÍN DE INFANTES RURAL DE MATRÍCULA MÍNIMA         0       0       0   \n",
      "21621  JARDÍN DE INFANTES RURAL DE MATRÍCULA MÍNIMA         0       0       0   \n",
      "21622  JARDÍN DE INFANTES RURAL DE MATRÍCULA MÍNIMA         0       0       0   \n",
      "\n",
      "                        turnos       area sede_axo_ext esc_sede    latitud  \\\n",
      "0      MAÑANA,TARDE,VESPERTINO   INTERIOR         SEDE      NaN -34.917432   \n",
      "1      MAÑANA,TARDE,VESPERTINO   INTERIOR         SEDE      NaN -34.917432   \n",
      "2      MAÑANA,TARDE,VESPERTINO   INTERIOR         SEDE      NaN -34.917432   \n",
      "3      MAÑANA,TARDE,VESPERTINO   INTERIOR         SEDE      NaN -34.914041   \n",
      "4      MAÑANA,TARDE,VESPERTINO   INTERIOR         SEDE      NaN -34.934052   \n",
      "...                        ...        ...          ...      ...        ...   \n",
      "21618                      NaN  CONURBANO         SEDE      NaN -34.647795   \n",
      "21619                      NaN   INTERIOR         SEDE      NaN -34.596751   \n",
      "21620                      NaN   INTERIOR         SEDE      NaN -35.488045   \n",
      "21621                      NaN   INTERIOR         SEDE      NaN -36.362899   \n",
      "21622                      NaN   INTERIOR         SEDE      NaN -37.339438   \n",
      "\n",
      "        longitud  \n",
      "0     -57.947606  \n",
      "1     -57.947606  \n",
      "2     -57.947606  \n",
      "3     -57.957036  \n",
      "4     -57.924258  \n",
      "...          ...  \n",
      "21618 -58.795544  \n",
      "21619 -58.966341  \n",
      "21620 -62.592406  \n",
      "21621 -61.640911  \n",
      "21622 -58.425834  \n",
      "\n",
      "[21623 rows x 29 columns]\n"
     ]
    }
   ],
   "source": [
    "renombrar = {\"nombre\": \"nombre_establecimiento\"}\n",
    "nueva_columna = data.rename(columns = renombrar)\n",
    "print(nueva_columna)"
   ]
  },
  {
   "cell_type": "markdown",
   "id": "smart-fields",
   "metadata": {},
   "source": [
    "5. ¿Cuántos estudiantes varones tiene el establecimiento que menos matricula de varones tiene? "
   ]
  },
  {
   "cell_type": "code",
   "execution_count": 14,
   "id": "artistic-evidence",
   "metadata": {},
   "outputs": [
    {
     "name": "stdout",
     "output_type": "stream",
     "text": [
      "0\n"
     ]
    }
   ],
   "source": [
    "print(data[\"varones\"].min())"
   ]
  },
  {
   "cell_type": "markdown",
   "id": "after-canvas",
   "metadata": {},
   "source": [
    "6. ¿Cuántos estudiantes mujeres tiene el establecimiento que más matrícula de mujeres tiene?"
   ]
  },
  {
   "cell_type": "code",
   "execution_count": 20,
   "id": "alone-target",
   "metadata": {},
   "outputs": [
    {
     "name": "stdout",
     "output_type": "stream",
     "text": [
      "5152\n"
     ]
    }
   ],
   "source": [
    "print(data[\"mujeres\"].max())"
   ]
  }
 ],
 "metadata": {
  "kernelspec": {
   "display_name": "Python 3",
   "language": "python",
   "name": "python3"
  },
  "language_info": {
   "codemirror_mode": {
    "name": "ipython",
    "version": 3
   },
   "file_extension": ".py",
   "mimetype": "text/x-python",
   "name": "python",
   "nbconvert_exporter": "python",
   "pygments_lexer": "ipython3",
   "version": "3.11.5"
  }
 },
 "nbformat": 4,
 "nbformat_minor": 5
}
