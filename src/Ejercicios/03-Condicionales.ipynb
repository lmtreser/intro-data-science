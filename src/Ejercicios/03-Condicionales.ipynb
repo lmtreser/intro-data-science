{
 "cells": [
  {
   "cell_type": "markdown",
   "id": "imposed-maximum",
   "metadata": {
    "id": "1ad6UxuSMh-q"
   },
   "source": [
    "### Ejercicios Clase 3 - Estructuras de Control\n",
    "\n",
    "1. Definir 2 variables con números (num1 y num2). Crear una estructura condicional donde si los dos números son iguales se imprima \"los dos números son iguales\" y sino se imprima \"los dos números son distintos\" (*if... else...*)"
   ]
  },
  {
   "cell_type": "code",
   "execution_count": 3,
   "id": "56fe2a94",
   "metadata": {},
   "outputs": [
    {
     "name": "stdout",
     "output_type": "stream",
     "text": [
      "Los números son iguales\n"
     ]
    }
   ],
   "source": [
    "num1 = 23\n",
    "num2 = 46\n",
    "# num2 = 23\n",
    "\n",
    "if (num1 == num2):\n",
    "    print(\"Los números son iguales\")\n",
    "else:\n",
    "    print(\"Los números son distintos\")"
   ]
  },
  {
   "cell_type": "markdown",
   "id": "complicated-vancouver",
   "metadata": {},
   "source": [
    "2. Definir 2 variables con números (num1 y num2). Crear una estructura condicional donde si el num1 es mayor que 4, imprima la suma de los dos números; si es igual a 4, imprima solo el num2; y si es menor a 4, imprima \"el número es menor a 4\""
   ]
  },
  {
   "cell_type": "code",
   "execution_count": 9,
   "id": "electric-consumer",
   "metadata": {},
   "outputs": [
    {
     "name": "stdout",
     "output_type": "stream",
     "text": [
      "El número es menor a 4\n"
     ]
    }
   ],
   "source": [
    "num1 =3\n",
    "num2 = 37\n",
    "\n",
    "if (num1 > 4):\n",
    "    suma = num1 + num2\n",
    "    print(\"La suma de ambos números es:\", suma)\n",
    "elif (num1 == 4):\n",
    "    print (\"El contenido de num2 es:\", num2)\n",
    "else:\n",
    "    print(\"El número es menor a 4\")"
   ]
  },
  {
   "cell_type": "markdown",
   "id": "pediatric-bristol",
   "metadata": {
    "id": "1ad6UxuSMh-q"
   },
   "source": [
    "3. Crear una estructura condicional donde si \"no llueve\", \"podemos ir a la plaza\" y sino \"debemos quedarnos en casa\" (*if... else...*)"
   ]
  },
  {
   "cell_type": "code",
   "execution_count": 12,
   "id": "virtual-program",
   "metadata": {},
   "outputs": [
    {
     "name": "stdout",
     "output_type": "stream",
     "text": [
      "Podemos ir a la plaza\n"
     ]
    }
   ],
   "source": [
    "clima = \"no llueve\"\n",
    "\n",
    "if (clima == \"no llueve\"):\n",
    "    print(\"Podemos ir a la plaza\")\n",
    "else:\n",
    "    print(\"Debemos quedarnos en casa\")"
   ]
  }
 ],
 "metadata": {
  "kernelspec": {
   "display_name": "Python 3",
   "language": "python",
   "name": "python3"
  },
  "language_info": {
   "codemirror_mode": {
    "name": "ipython",
    "version": 3
   },
   "file_extension": ".py",
   "mimetype": "text/x-python",
   "name": "python",
   "nbconvert_exporter": "python",
   "pygments_lexer": "ipython3",
   "version": "3.11.5"
  }
 },
 "nbformat": 4,
 "nbformat_minor": 5
}
