{
 "cells": [
  {
   "cell_type": "markdown",
   "id": "pressing-scheme",
   "metadata": {},
   "source": [
    "### Ejercicios Clase 2 - Diccionarios"
   ]
  },
  {
   "cell_type": "markdown",
   "id": "undefined-comparative",
   "metadata": {},
   "source": [
    "1. Crea un diccionario que tenga 3 pares de clave valor con países y capitales."
   ]
  },
  {
   "cell_type": "markdown",
   "id": "republican-study",
   "metadata": {},
   "source": [
    "2. Hace un print de los nombres de lo países."
   ]
  },
  {
   "cell_type": "markdown",
   "id": "relative-aircraft",
   "metadata": {},
   "source": [
    "3. Mostrá los nombres de las capitales"
   ]
  },
  {
   "cell_type": "markdown",
   "id": "potential-dependence",
   "metadata": {},
   "source": [
    "4. Agrega una par de país-capital"
   ]
  },
  {
   "cell_type": "code",
   "execution_count": 2,
   "id": "theoretical-jacksonville",
   "metadata": {},
   "outputs": [
    {
     "name": "stdout",
     "output_type": "stream",
     "text": [
      "{'Argentina': 'Buenos Aires', 'Francia': 'Paris', 'España': 'Madrid'}\n"
     ]
    }
   ],
   "source": [
    "# Ejercicio 1\n",
    "diccionario = {\n",
    "    \"Argentina\" : \"Buenos Aires\",\n",
    "    \"Francia\" : \"Paris\",\n",
    "    \"España\" : \"Madrid\"\n",
    "}\n",
    "print(diccionario)"
   ]
  },
  {
   "cell_type": "code",
   "execution_count": 6,
   "id": "bf5166e1",
   "metadata": {},
   "outputs": [
    {
     "name": "stdout",
     "output_type": "stream",
     "text": [
      "dict_keys(['Argentina', 'Francia', 'España'])\n"
     ]
    }
   ],
   "source": [
    "# Ejercicio 2\n",
    "paises = diccionario.keys()\n",
    "print(paises)"
   ]
  },
  {
   "cell_type": "code",
   "execution_count": 7,
   "id": "25676cc3",
   "metadata": {},
   "outputs": [
    {
     "name": "stdout",
     "output_type": "stream",
     "text": [
      "dict_values(['Buenos Aires', 'Paris', 'Madrid'])\n"
     ]
    }
   ],
   "source": [
    "# Ejercicio 3\n",
    "capitales = diccionario.values()\n",
    "print(capitales)"
   ]
  },
  {
   "cell_type": "code",
   "execution_count": 8,
   "id": "818f0017",
   "metadata": {},
   "outputs": [
    {
     "name": "stdout",
     "output_type": "stream",
     "text": [
      "{'Argentina': 'Buenos Aires', 'Francia': 'Paris', 'España': 'Madrid', 'Italia': 'Roma'}\n"
     ]
    }
   ],
   "source": [
    "# ejercicio 4\n",
    "diccionario[\"Italia\"] = \"Roma\"\n",
    "print(diccionario)"
   ]
  }
 ],
 "metadata": {
  "kernelspec": {
   "display_name": "Python 3",
   "language": "python",
   "name": "python3"
  },
  "language_info": {
   "codemirror_mode": {
    "name": "ipython",
    "version": 3
   },
   "file_extension": ".py",
   "mimetype": "text/x-python",
   "name": "python",
   "nbconvert_exporter": "python",
   "pygments_lexer": "ipython3",
   "version": "3.9.2"
  }
 },
 "nbformat": 4,
 "nbformat_minor": 5
}
