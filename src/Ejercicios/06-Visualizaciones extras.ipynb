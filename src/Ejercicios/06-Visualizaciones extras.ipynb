{
 "cells": [
  {
   "cell_type": "markdown",
   "id": "buried-links",
   "metadata": {},
   "source": [
    "### Ejercicios Extra Visualizaciones\n",
    "\n",
    "Para estos ejercicios vamos a seguir utilizando el recorte de un dataset sobre el establecimientos educativos en la Provincia de Buenos Aires extraído del sitio web de Datos Abiertos de la Provincia de Buenos Aires actualizado a fines del año 2022. \n",
    "\n",
    "Deben utilizar el Dataset modificado que usamos en la clase por lo que deben extraerlo del Classroom."
   ]
  },
  {
   "cell_type": "code",
   "execution_count": 1,
   "id": "closing-pressure",
   "metadata": {},
   "outputs": [],
   "source": [
    "import pandas as pd\n",
    "import matplotlib.pyplot as plt   \n",
    "import seaborn as sns"
   ]
  },
  {
   "cell_type": "markdown",
   "id": "civilian-potential",
   "metadata": {},
   "source": [
    "1. Hacer un gráfico que muestre cuántos establecimientos de cada Sector hay"
   ]
  },
  {
   "cell_type": "code",
   "execution_count": null,
   "id": "039f541f",
   "metadata": {},
   "outputs": [],
   "source": []
  },
  {
   "cell_type": "markdown",
   "id": "eleven-hotel",
   "metadata": {},
   "source": [
    "2. Hacer un gráfico que muestre la matrícula total por Sector"
   ]
  },
  {
   "cell_type": "code",
   "execution_count": null,
   "id": "d675b2e9",
   "metadata": {},
   "outputs": [],
   "source": []
  },
  {
   "cell_type": "markdown",
   "id": "israeli-definition",
   "metadata": {},
   "source": [
    "3. Hacer un gráfico para ver la la distribución de la matrícula de mujeres "
   ]
  },
  {
   "cell_type": "code",
   "execution_count": null,
   "id": "9af5fc5c",
   "metadata": {},
   "outputs": [],
   "source": []
  },
  {
   "cell_type": "markdown",
   "id": "3a6a29c0",
   "metadata": {},
   "source": [
    "4. Hacer un gráfico que muestre cuántos establecimientos de cada Area hay"
   ]
  },
  {
   "cell_type": "code",
   "execution_count": null,
   "id": "202a675e",
   "metadata": {},
   "outputs": [],
   "source": []
  }
 ],
 "metadata": {
  "kernelspec": {
   "display_name": "Python 3",
   "language": "python",
   "name": "python3"
  },
  "language_info": {
   "codemirror_mode": {
    "name": "ipython",
    "version": 3
   },
   "file_extension": ".py",
   "mimetype": "text/x-python",
   "name": "python",
   "nbconvert_exporter": "python",
   "pygments_lexer": "ipython3",
   "version": "3.7.10"
  }
 },
 "nbformat": 4,
 "nbformat_minor": 5
}
