{
 "cells": [
  {
   "cell_type": "markdown",
   "id": "precise-merit",
   "metadata": {},
   "source": [
    "### Ejercicios Clase 2 - Listas\n",
    "\n",
    "\n",
    "\n",
    "1. Hacer una lista que contenga 3 elementos que uses para dar clases"
   ]
  },
  {
   "cell_type": "markdown",
   "id": "julian-queensland",
   "metadata": {},
   "source": [
    "2. Eliminar el primer registro de la lista"
   ]
  },
  {
   "cell_type": "markdown",
   "id": "straight-berry",
   "metadata": {},
   "source": [
    "3. Agregar una materia más al final"
   ]
  },
  {
   "cell_type": "markdown",
   "id": "recovered-description",
   "metadata": {},
   "source": [
    "4. Seleccionar el segundo elemento de la lista"
   ]
  },
  {
   "cell_type": "code",
   "execution_count": 7,
   "id": "primary-thong",
   "metadata": {},
   "outputs": [
    {
     "name": "stdout",
     "output_type": "stream",
     "text": [
      "['pizarrón', 'fibrón', 'computadora']\n"
     ]
    }
   ],
   "source": [
    "# Ejercicio 1\n",
    "lista = [\"pizarrón\", \"fibrón\", \"computadora\"]\n",
    "print(lista)"
   ]
  },
  {
   "cell_type": "code",
   "execution_count": 11,
   "id": "f8256b3f",
   "metadata": {},
   "outputs": [
    {
     "name": "stdout",
     "output_type": "stream",
     "text": [
      "['fibrón', 'computadora']\n"
     ]
    }
   ],
   "source": [
    "# Ejercicio 2\n",
    "lista.pop(0)\n",
    "print(lista)"
   ]
  },
  {
   "cell_type": "code",
   "execution_count": 12,
   "id": "ab6c69d5",
   "metadata": {},
   "outputs": [
    {
     "name": "stdout",
     "output_type": "stream",
     "text": [
      "['fibrón', 'computadora', 'proyector']\n"
     ]
    }
   ],
   "source": [
    "# Ejercicio 3\n",
    "lista.append(\"proyector\")\n",
    "print(lista)"
   ]
  },
  {
   "cell_type": "code",
   "execution_count": 13,
   "id": "bd988a52",
   "metadata": {},
   "outputs": [
    {
     "name": "stdout",
     "output_type": "stream",
     "text": [
      "computadora\n"
     ]
    }
   ],
   "source": [
    "# Ejercicio 4\n",
    "elemento = lista[1]\n",
    "print(elemento)"
   ]
  }
 ],
 "metadata": {
  "kernelspec": {
   "display_name": "Python 3",
   "language": "python",
   "name": "python3"
  },
  "language_info": {
   "codemirror_mode": {
    "name": "ipython",
    "version": 3
   },
   "file_extension": ".py",
   "mimetype": "text/x-python",
   "name": "python",
   "nbconvert_exporter": "python",
   "pygments_lexer": "ipython3",
   "version": "3.9.2"
  }
 },
 "nbformat": 4,
 "nbformat_minor": 5
}
