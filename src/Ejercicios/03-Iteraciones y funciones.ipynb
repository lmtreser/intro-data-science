{
 "cells": [
  {
   "cell_type": "markdown",
   "id": "separated-metabolism",
   "metadata": {},
   "source": [
    "#### Estructuras de Control"
   ]
  },
  {
   "cell_type": "markdown",
   "id": "collective-salad",
   "metadata": {},
   "source": [
    "1. Como en una playa, crear una estructura condicional donde si la bandera es igual a \"roja\", imprima \"prohibición de baño\", si es \"roja con negro\", imprima \"mar peligroso\"; si es \"amarilla con negro\", imprima \"mar dudoso\" y si es \"celeste\" imprima \"mar calmo\""
   ]
  },
  {
   "cell_type": "code",
   "execution_count": 6,
   "id": "simplified-engineering",
   "metadata": {},
   "outputs": [
    {
     "name": "stdout",
     "output_type": "stream",
     "text": [
      "Mar calmo\n"
     ]
    }
   ],
   "source": [
    "# bandera = \"roja\"\n",
    "# bandera = \"roja con negro\"\n",
    "# bandera = \"amarilla con negro\"\n",
    "bandera = \"celeste\"\n",
    "\n",
    "if (bandera == \"roja\"):\n",
    "    print(\"Prohibición de baño\")\n",
    "elif (bandera == \"roja con negro\"):\n",
    "    print(\"Mar peligroso\")\n",
    "elif (bandera == \"amarilla con negro\"):\n",
    "    print(\"Mar dudoso\")\n",
    "elif (bandera == \"celeste\"):\n",
    "    print(\"Mar calmo\")"
   ]
  },
  {
   "cell_type": "markdown",
   "id": "immediate-utility",
   "metadata": {},
   "source": [
    "2. Crear una estructura condicional que indique que si la bandera es \"roja\" **o** \"llueve\", imprima \"no puedo entrar al mar\""
   ]
  },
  {
   "cell_type": "code",
   "execution_count": 10,
   "id": "hindu-titanium",
   "metadata": {},
   "outputs": [
    {
     "name": "stdout",
     "output_type": "stream",
     "text": [
      "No puedo entrar al mar\n"
     ]
    }
   ],
   "source": [
    "bandera = \"roja\"\n",
    "clima = \"llueve\"\n",
    "\n",
    "if (bandera == \"roja\" or clima == \"llueve\"):\n",
    "    print(\"No puedo entrar al mar\")"
   ]
  },
  {
   "cell_type": "markdown",
   "id": "adverse-burns",
   "metadata": {},
   "source": [
    "3. Crear una estructura condicional que indique que si \"no llueve\" **y** la bandera es \"celeste\" imprima \"puedo entrar al mar\""
   ]
  },
  {
   "cell_type": "code",
   "execution_count": 11,
   "id": "thousand-scenario",
   "metadata": {},
   "outputs": [
    {
     "name": "stdout",
     "output_type": "stream",
     "text": [
      "Puedo entrar al mar\n"
     ]
    }
   ],
   "source": [
    "clima = \"no llueve\"\n",
    "bandera = \"celeste\"\n",
    "\n",
    "if (bandera == \"celeste\" and clima == \"no llueve\"):\n",
    "    print(\"Puedo entrar al mar\")"
   ]
  },
  {
   "cell_type": "markdown",
   "id": "underlying-violin",
   "metadata": {},
   "source": [
    "4. Crear una lista de ciudades. Crear una estructura de iteración donde cuente la cantidad de ciudades en la lista"
   ]
  },
  {
   "cell_type": "code",
   "execution_count": 22,
   "id": "fossil-bradford",
   "metadata": {},
   "outputs": [
    {
     "name": "stdout",
     "output_type": "stream",
     "text": [
      "Cantidad de ciudades: 4\n"
     ]
    }
   ],
   "source": [
    "ciudades = [\"Mar del Plata\", \"Batán\", \"Balcarce\", \"Tandil\"]\n",
    "cantidad = 0\n",
    "\n",
    "for i in ciudades:\n",
    "    cantidad += 1\n",
    "\n",
    "print(\"Cantidad de ciudades:\", cantidad)"
   ]
  },
  {
   "cell_type": "markdown",
   "id": "cross-beads",
   "metadata": {},
   "source": [
    "5. Crear una lista de números y crear una estructura de iteración donde se vayan multiplicando e imprima el resultado final"
   ]
  },
  {
   "cell_type": "code",
   "execution_count": 25,
   "id": "august-ozone",
   "metadata": {},
   "outputs": [
    {
     "name": "stdout",
     "output_type": "stream",
     "text": [
      "120\n"
     ]
    }
   ],
   "source": [
    "numeros = [1, 2, 3, 4, 5]\n",
    "resultado = 1\n",
    "\n",
    "for i in numeros:\n",
    "    resultado *= i\n",
    "\n",
    "print(resultado)"
   ]
  },
  {
   "cell_type": "markdown",
   "id": "swiss-adolescent",
   "metadata": {},
   "source": [
    "6. Crear una función que reciba como argumento 2 números y los multiplique"
   ]
  },
  {
   "cell_type": "code",
   "execution_count": 26,
   "id": "environmental-smooth",
   "metadata": {},
   "outputs": [
    {
     "name": "stdout",
     "output_type": "stream",
     "text": [
      "10\n"
     ]
    }
   ],
   "source": [
    "def multiplicar(num1, num2):\n",
    "    resultado = num1 * num2\n",
    "    return resultado\n",
    "\n",
    "cuenta = multiplicar(2, 5)\n",
    "print(cuenta)"
   ]
  },
  {
   "cell_type": "markdown",
   "id": "desperate-ability",
   "metadata": {},
   "source": [
    "7. Crear una función que reciba el color de una bandera e imprima el significado (combinar función con estructura condicional)"
   ]
  },
  {
   "cell_type": "code",
   "execution_count": 31,
   "id": "meaningful-company",
   "metadata": {},
   "outputs": [
    {
     "name": "stdout",
     "output_type": "stream",
     "text": [
      "Mar calmo\n"
     ]
    }
   ],
   "source": [
    "def flags(color):\n",
    "\n",
    "    bandera = color\n",
    "\n",
    "    if (bandera == \"roja\"):\n",
    "        print(\"Prohibición de baño\")\n",
    "    elif (bandera == \"roja con negro\"):\n",
    "        print(\"Mar peligroso\")\n",
    "    elif (bandera == \"amarilla con negro\"):\n",
    "        print(\"Mar dudoso\")\n",
    "    elif (bandera == \"celeste\"):\n",
    "        print(\"Mar calmo\")\n",
    "\n",
    "# flags(\"roja\")\n",
    "# flags(\"roja con negro\")\n",
    "# flags(\"amarilla con negro\")\n",
    "flags(\"celeste\")"
   ]
  }
 ],
 "metadata": {
  "kernelspec": {
   "display_name": "Python 3",
   "language": "python",
   "name": "python3"
  },
  "language_info": {
   "codemirror_mode": {
    "name": "ipython",
    "version": 3
   },
   "file_extension": ".py",
   "mimetype": "text/x-python",
   "name": "python",
   "nbconvert_exporter": "python",
   "pygments_lexer": "ipython3",
   "version": "3.9.2"
  }
 },
 "nbformat": 4,
 "nbformat_minor": 5
}
